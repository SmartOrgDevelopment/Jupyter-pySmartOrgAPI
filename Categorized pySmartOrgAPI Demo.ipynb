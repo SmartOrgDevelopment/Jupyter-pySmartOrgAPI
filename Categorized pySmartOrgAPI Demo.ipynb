{
 "cells": [
  {
   "cell_type": "markdown",
   "id": "cf36c513-cb7c-46b5-b502-d5879913b652",
   "metadata": {},
   "source": [
    "# pySmartOrgAPI - A python class for interfacing with SmartOrg kirk API <a class=\"jp-toc-ignore\"></a>"
   ]
  },
  {
   "cell_type": "markdown",
   "id": "1334f20d-7a7d-4b4d-8728-cebf734634b2",
   "metadata": {},
   "source": [
    "<h2>Setup</h2>"
   ]
  },
  {
   "cell_type": "markdown",
   "id": "6953bded-d7e5-44f5-a533-136d02dfa77c",
   "metadata": {},
   "source": [
    "<h3>Import libraries</h3>"
   ]
  },
  {
   "cell_type": "code",
   "execution_count": null,
   "id": "aa59a96c-b942-492f-80a9-40afc4b01ad9",
   "metadata": {},
   "outputs": [],
   "source": [
    "import smartorgclass\n",
    "\n",
    "import os\n",
    "from dotenv import load_dotenv\n",
    "\n",
    "import pandas as pd\n",
    "\n",
    "import json\n",
    "import base64\n",
    "import urllib.parse"
   ]
  },
  {
   "cell_type": "markdown",
   "id": "ac9c2e63-d8fc-4dd7-bfe7-d0fef8e5e608",
   "metadata": {},
   "source": [
    "<h3>Load environmental variables from .env file</h3>\n",
    "\n",
    "- load_dotenv() will load the .env file in the current directory.  This file should contain the password needed to authenticate to the kirk API:\n",
    "``` sh\n",
    "PASSWORD=<your_PNAV_password>\n",
    "```"
   ]
  },
  {
   "cell_type": "code",
   "execution_count": null,
   "id": "b45e71f5-baf5-4a3f-b4e6-94183d9f0ada",
   "metadata": {},
   "outputs": [],
   "source": [
    "load_dotenv()"
   ]
  },
  {
   "cell_type": "markdown",
   "id": "081a3582-f682-424a-97d0-4071a56ef267",
   "metadata": {},
   "source": [
    "<h1>Authentication & Login</h1> "
   ]
  },
  {
   "cell_type": "markdown",
   "id": "41a8e2de-68df-4499-b261-b8ba2c46f0e5",
   "metadata": {},
   "source": [
    "<h2>SmartOrg class _init_() function</h2>\n",
    "    - Generates Hmac needed for authorization to PNAV 8.x. and then calls the getToken() method to generate initial JWT token\n",
    "\n",
    "<b>Args:</b>\n",
    "- <b>username</b> (str): \n",
    "  - String representing a registered username\n",
    "- <b>password</b> (str): \n",
    "  - String with the registered user's password\n",
    "- <b>server</b> (str):\n",
    "  - String representing the SmartOrg server to communicate with, e.g.:\n",
    "    - 'dev.smartorg.com'\n",
    "    - 'trials.smartorg.com'\n",
    "    - etc.\n",
    "- <b>timeout</b> (float, optional):\n",
    "  - How many seconds to wait for the server to send data before giving up, as a float.  Default value = 30.\n",
    "- <b>verify</b> (bool, optional):\n",
    "  - Boolean which controls whether we verify the server’s TLS certificate. Default value = True\n",
    " \n",
    "<b>API:</b> In getToken() method\n",
    "- <b>POST:</b> /wizard-api/framework/login/a/{username}\n",
    "\n",
    "<b>Returns:</b>\n",
    "- the getToken() method returns a JWT token if authentication is successful.  This JWT token is stored automatically as a variable (this.token) inside the SmartOrg class that has been created\n",
    "\n",
    "<b>Notes:</b>\n",
    "- every time a method (must be a method that passes the current JWT token to it) in the SmartOrgClass is successfully called, it will automatically update the JWT token that is stored in this class\n",
    "- the JWT token is set by the software to expire 30 minutes after it is created\n",
    "\n"
   ]
  },
  {
   "cell_type": "code",
   "execution_count": null,
   "id": "f067d128-5ca6-434c-8a52-b6f24cfbcac4",
   "metadata": {},
   "outputs": [],
   "source": [
    "username = 'DaveAppleConnect'\n",
    "server = 'pn-smartorg.rap.apple.com'"
   ]
  },
  {
   "cell_type": "code",
   "execution_count": null,
   "id": "f33a710a-af87-4e39-90af-0a411f7a6ca9",
   "metadata": {},
   "outputs": [],
   "source": [
    "so = smartorgclass.SmartOrg(username,os.getenv('PASSWORD'),server, verify=False)"
   ]
  },
  {
   "cell_type": "markdown",
   "id": "b59cc80c-3806-42b3-877a-dd12e0bd4c78",
   "metadata": {},
   "source": [
    "#### JWT token currently stored in the instantiated SmartOrgClass <a class=\"jp-toc-ignore\"></a>"
   ]
  },
  {
   "cell_type": "code",
   "execution_count": null,
   "id": "c551b9e6-c574-462b-b7b4-525d0d6195d0",
   "metadata": {},
   "outputs": [],
   "source": [
    "so.token"
   ]
  },
  {
   "cell_type": "markdown",
   "id": "8efeb637-41b9-4c00-aafe-093f2c640a61",
   "metadata": {},
   "source": [
    "#### What is a JWT token?<a class=\"jp-toc-ignore\"></a>\n",
    "\n",
    "JWT stands for \"JSON Web Token.\" It is a compact, URL-safe means of representing claims to be transferred between two parties. The claims in a JWT are encoded as a JSON object that is used as the payload of a JSON Web Signature (JWS) structure or as the plaintext of a JSON Web Encryption (JWE) structure, enabling the claims to be digitally signed or integrity-protected with a Message Authentication Code (MAC) and/or encrypted."
   ]
  },
  {
   "cell_type": "markdown",
   "id": "f54d9946-95d9-4c7f-ad4e-ddd140041239",
   "metadata": {},
   "source": [
    "#### Decoding JWT token payload<a class=\"jp-toc-ignore\"></a>"
   ]
  },
  {
   "cell_type": "code",
   "execution_count": null,
   "id": "4ece1855-45dd-4788-9882-5e7dfa49d152",
   "metadata": {},
   "outputs": [],
   "source": [
    "import jwt\n",
    "import datetime\n",
    "\n",
    "# Decode the JWT token\n",
    "try:\n",
    "    decoded = jwt.decode(so.token, options={\"verify_signature\": False})\n",
    "    print(decoded)\n",
    "    # Extract the expiration time\n",
    "    exp_timestamp = decoded.get(\"exp\")\n",
    "    \n",
    "    if exp_timestamp:\n",
    "        # Convert the expiration time to a human-readable format\n",
    "        exp_time = datetime.datetime.fromtimestamp(exp_timestamp, datetime.timezone.utc)\n",
    "        print(f\"Token expiration time (UTC): {exp_time}\")\n",
    "    else:\n",
    "        print(\"Expiration time not found in token\")\n",
    "        \n",
    "except jwt.ExpiredSignatureError:\n",
    "    print(\"Token has expired\")\n",
    "except jwt.InvalidTokenError:\n",
    "    print(\"Invalid token\")\n"
   ]
  },
  {
   "cell_type": "markdown",
   "id": "11239e1f-c719-4823-aad9-c5a421cc7e53",
   "metadata": {},
   "source": [
    "<h1>Portfolios/Trees</h1>"
   ]
  },
  {
   "cell_type": "markdown",
   "id": "c9568c7b-b136-4065-8f81-f2af7eb6d2b8",
   "metadata": {},
   "source": [
    "<h2>portfolios() method</h2>\n",
    "- Get portfolios   \n",
    "\n",
    "<b>Args:</b>\n",
    "- <b>none</b>\n",
    "\n",
    "<b>API:</b>\n",
    "- <b>GET:</b> domain/nav/portfolios\n",
    "\n",
    "<b>Returns:</b>\n",
    "- list of top-most (root) node documents for all portfolios on the server.  These documents are saved inside the mongoDB astro_nodes collection."
   ]
  },
  {
   "cell_type": "code",
   "execution_count": null,
   "id": "e0246f3b-db97-4ec0-84be-f3e148a089e7",
   "metadata": {
    "scrolled": true
   },
   "outputs": [],
   "source": [
    "ports = so.portfolios()\n",
    "print(ports.keys())\n",
    "print()\n",
    "print('i\\tPortfolios (treeID)\\t\\tTop-most nodeID')\n",
    "for i,p in enumerate(ports['portfolios']):\n",
    "    print(i,'\\t',p['name'],'\\t\\t',p['_id'])"
   ]
  },
  {
   "cell_type": "markdown",
   "id": "52c686b3-67f0-47ae-a001-976c5592634c",
   "metadata": {},
   "source": [
    "<h3> Converting the list of portfolios to a pandas dataframe for better clarity </h3>"
   ]
  },
  {
   "cell_type": "code",
   "execution_count": null,
   "id": "e843755c-8259-4b4d-9a14-c2d3e1afb22a",
   "metadata": {},
   "outputs": [],
   "source": [
    "df_ports = pd.DataFrame(ports['portfolios'])\n",
    "df_ports"
   ]
  },
  {
   "cell_type": "markdown",
   "id": "a99746b3-d619-427c-b0ad-3f2cb0d3878d",
   "metadata": {},
   "source": [
    "<h2>createPortfolio() method</h2>\n",
    "- Create new portfolio\n",
    "\n",
    "<b>Args:</b>\n",
    "- <b>newPortfolioName</b>\n",
    "    - string representing name of new portfolio\n",
    "\n",
    "<b>API:</b>\n",
    "- <b>POST:</b> domain/admin/portfolio/new\n",
    "\n",
    "<b>Returns:</b>\n",
    "- upon success, returns\n",
    "``` sh\n",
    "{'status': 0, 'message': 'Create a new portfolio', 'nodeID': <nodeID of porfolio root node>}\n",
    "```"
   ]
  },
  {
   "cell_type": "code",
   "execution_count": null,
   "id": "af28a499-c312-4305-9169-ee0ff8493520",
   "metadata": {},
   "outputs": [],
   "source": [
    "newPortfolioName = 'Dave New Portfolio'\n",
    "res = so.createPortfolio(newPortfolioName)\n",
    "res"
   ]
  },
  {
   "cell_type": "markdown",
   "id": "288a5b38-3e42-43a0-9aca-f19962a32a59",
   "metadata": {},
   "source": [
    "<h2>treeFor() method</h2>\n",
    "- Get portfolio tree    \n",
    "\n",
    "<b>Args:</b>\n",
    "- <b>portfolioName</b> (str): \n",
    "  - String with name of portfolio (aka treeID)\n",
    "\n",
    "<b>API:</b>\n",
    "  - <b>GET:</b> domain/nav/tree\n",
    "\n",
    "<b>Returns:</b>\n",
    "- List of all node documents for which the 'treeID' matches the 'portfolioName' passed to this method as an argument.  Note that the nodes returned are in a random order.  To generate a proper tree, one must do some additional ordering"
   ]
  },
  {
   "cell_type": "code",
   "execution_count": null,
   "id": "eb544172-76be-421d-b4ff-aca0a139e36a",
   "metadata": {
    "scrolled": true
   },
   "outputs": [],
   "source": [
    "portfolioName = 'SmartOrg Standard Demo with 40 Years'\n",
    "nodes = so.treeFor(portfolioName)\n",
    "nodes"
   ]
  },
  {
   "cell_type": "markdown",
   "id": "1b35c827-90f0-4a63-ab99-406b29726aac",
   "metadata": {},
   "source": [
    "<h3> Converting the list of dictionaries to a pandas dataframe for better clarity </h3>"
   ]
  },
  {
   "cell_type": "code",
   "execution_count": null,
   "id": "39bb132e-d480-4dca-aaef-cac5ae580819",
   "metadata": {
    "scrolled": true
   },
   "outputs": [],
   "source": [
    "df = pd.DataFrame(nodes)\n",
    "df.set_index('_id',inplace=True) # set dataframe index to node id\n",
    "df['id']=df.index # create a column with node id's for convenience\n",
    "df"
   ]
  },
  {
   "cell_type": "markdown",
   "id": "3b623d7e-12a6-4b45-89df-dce109e28df7",
   "metadata": {},
   "source": [
    "#### The column labels for this pandas dataframe represent the keys in the database document.  Note that the index of the dataframe is the _id key. <a class=\"jp-toc-ignore\"></a>"
   ]
  },
  {
   "cell_type": "code",
   "execution_count": null,
   "id": "d0d39df4-bbc9-4aa7-9fce-0e296f0a29a8",
   "metadata": {},
   "outputs": [],
   "source": [
    "df.columns"
   ]
  },
  {
   "cell_type": "markdown",
   "id": "ee010643-a5a9-4e43-9b65-19af1b2e87e4",
   "metadata": {},
   "source": [
    "<h3> NodeTree class for ordering portfolio tree</h3>"
   ]
  },
  {
   "cell_type": "code",
   "execution_count": null,
   "id": "ae51057a-14fe-469f-9614-f03129060f0a",
   "metadata": {},
   "outputs": [],
   "source": [
    "class NodeTree(object):\n",
    "    def __init__(self, df, id = None, children = None):\n",
    "        self.id = id\n",
    "        self.df = df\n",
    "        self.children = self.df.loc[self.id].children\n",
    "\n",
    "    def preorder(self):\n",
    "        yield self.df.loc[self.id]\n",
    "        for child in self.children:\n",
    "            y = NodeTree(self.df,child)\n",
    "            yield from y.preorder()"
   ]
  },
  {
   "cell_type": "markdown",
   "id": "01a540a8-bcad-4ace-b3e8-e1b059e03ccd",
   "metadata": {},
   "source": [
    "#### Get top-most node in portfolio tree"
   ]
  },
  {
   "cell_type": "code",
   "execution_count": null,
   "id": "0677b43e-a25d-4b04-81aa-113b140063b4",
   "metadata": {},
   "outputs": [],
   "source": [
    "top_node =top_node = df[df.parent.astype(bool)==False].index[0] # find pandas row where there is no parent defined and then get the value of the first element in the row\n",
    "top_node"
   ]
  },
  {
   "cell_type": "markdown",
   "id": "e54ee18f-6e4a-4d20-a8fb-f59376b6b3d3",
   "metadata": {},
   "source": [
    "#### Generate Portfolio Tree"
   ]
  },
  {
   "cell_type": "code",
   "execution_count": null,
   "id": "c8274788-1499-432d-903d-d24c1afde539",
   "metadata": {
    "scrolled": true
   },
   "outputs": [],
   "source": [
    "treeNodes = NodeTree(df,top_node)\n",
    "for i, y in enumerate(treeNodes.preorder()):\n",
    "    pathLength = len(y['path'])\n",
    "    print('   '*pathLength,f\"{y['name']} - (nodeID: {y['id']})\")"
   ]
  },
  {
   "cell_type": "markdown",
   "id": "7907f4ed-3509-4846-86a5-80d95c5e0a8c",
   "metadata": {},
   "source": [
    "<h3> Get only list of leaf nodes (no children)</h3>\n",
    "- use list comprehension"
   ]
  },
  {
   "cell_type": "code",
   "execution_count": null,
   "id": "464cd173-6459-478a-b59e-e35b402c7823",
   "metadata": {
    "scrolled": true
   },
   "outputs": [],
   "source": [
    "children = [node for node in nodes if node['children']==[]]\n",
    "children"
   ]
  },
  {
   "cell_type": "code",
   "execution_count": null,
   "id": "ba6da270-b014-459a-a57c-a9f2f1d9681a",
   "metadata": {},
   "outputs": [],
   "source": [
    "for child in children:\n",
    "    print(child['name'])"
   ]
  },
  {
   "cell_type": "markdown",
   "id": "fdb51bf5-cd53-405d-b82f-598f7c2d8b19",
   "metadata": {},
   "source": [
    "<h2>getSubtree() method</h2>\n",
    "-Get sub-tree\n",
    "\n",
    "<b>Args:</b>\n",
    "- <b>loadNodeList</b> (List(str)): \n",
    "    - list of strings with nodeID's to load.  Nodes in this list should not be leaves.\n",
    "    - Note that the list can contain multiple sub-portfolios to load the info for\n",
    "\n",
    "<b>API:</b>\n",
    "  - <b>POST:</b> domain/nav/get-subtree\n",
    "\n",
    "<b>Returns:</b><br>\n",
    "    - List of astro_node documents for sub-nodes in portfolio tree below nodes in loadNodeList"
   ]
  },
  {
   "cell_type": "code",
   "execution_count": null,
   "id": "4b005599-7bee-4568-b50b-115a0c0e1f25",
   "metadata": {},
   "outputs": [],
   "source": [
    "treeID = 'SmartOrg Standard Demo with 40 Years'\n",
    "portNodes = so.treeFor(treeID)\n",
    "\n",
    "# Get all 2nd level nodes in portfolio which are not leaves\n",
    "level=2\n",
    "loadNodeList = [n['_id'] for n in portNodes if len(n['path'])==level and n['children']!=[]]\n",
    "loadNodeList"
   ]
  },
  {
   "cell_type": "code",
   "execution_count": null,
   "id": "be9d5f84-95c9-4130-86fa-38d722259276",
   "metadata": {
    "scrolled": true
   },
   "outputs": [],
   "source": [
    "res = so.getSubtree(loadNodeList)\n",
    "res"
   ]
  },
  {
   "cell_type": "markdown",
   "id": "3a0b5f11-d7ad-49f4-a04a-2c84468d1c27",
   "metadata": {},
   "source": [
    "<h2>firstNLevelTreeFor() method</h2>\n",
    "-Get first N levels of tree\n",
    "\n",
    "<b>Args:</b>\n",
    "- <b>portfolioName</b> (str): \n",
    "    - string with name of portfolio\n",
    "- <b>nLevel</b> (int): \n",
    "    - number of levels of tree to return\n",
    "    - NOTE:  nLevel is currently hard-codedd to 4 in back-end codebase\n",
    "        \n",
    "<b>API:</b>\n",
    "  - <b>POST:</b> domain/nav/tree-first-n-level\n",
    "\n",
    "<b>Returns:</b><br>\n",
    "    - List of astro_node documents for first N levels of portfolio tree"
   ]
  },
  {
   "cell_type": "code",
   "execution_count": null,
   "id": "1fc0de8f-9cbf-4204-a9da-bffceb8d3d63",
   "metadata": {
    "scrolled": true
   },
   "outputs": [],
   "source": [
    "portfolioName = 'SmartOrg Standard Demo with 40 Years'\n",
    "nLevel = 4\n",
    "res = so.firstNLevelTreeFor(portfolioName,nLevel)\n",
    "res"
   ]
  },
  {
   "cell_type": "markdown",
   "id": "e17f0ae6-1a5f-4740-9fa5-03aa229dda53",
   "metadata": {},
   "source": [
    "<h2>getTemplateRestrictions() method</h2>\n",
    "- Get template restrictions for a portfolio\n",
    "\n",
    "<b>Args:</b>\n",
    "- <b>treeID</b> (str): \n",
    "    - string with name of portfolio\n",
    "\n",
    "        \n",
    "<b>API:</b>\n",
    "  - <b>GET:</b> domain/admin/portfolio/restrict/template\n",
    "\n",
    "<b>Returns:</b>\n",
    "- Dictionary containing two keys:  'restrictedTemplates' and 'remainingTemplates' which contain list values of templates"
   ]
  },
  {
   "cell_type": "code",
   "execution_count": null,
   "id": "372eda75-0a86-4d85-94b7-849585362bdc",
   "metadata": {
    "scrolled": true
   },
   "outputs": [],
   "source": [
    "treeID = 'Demo 2021 Make Sell Portfolio'\n",
    "res = so.getTemplateRestrictions(treeID)\n",
    "res"
   ]
  },
  {
   "cell_type": "markdown",
   "id": "b3d955b6-1213-4668-b152-fb35805f9a00",
   "metadata": {},
   "source": [
    "<h2>setTemplateRestrictions() method</h2>\n",
    "-Set template restrictions for a portfolio\n",
    "\n",
    "<b>Args:</b>\n",
    "- <b>treeID</b> (str): \n",
    "    - string with name of portfolio\n",
    "- <b>chosenTemplates</b> (List[str]): \n",
    "    - list of templates as strings\n",
    "\n",
    "        \n",
    "<b>API:</b>\n",
    "  - <b>PUT:</b>domain/admin/portfolio/restrict/template\n",
    "\n",
    "<b>Returns:</b>\n",
    "- Nothing"
   ]
  },
  {
   "cell_type": "code",
   "execution_count": null,
   "id": "264adac2-c5df-44ac-8ae9-0f932b61437d",
   "metadata": {},
   "outputs": [],
   "source": [
    "chosenTemplates = ['Demo2021MakeSell','Demo2021MakeSellMatureAssessment40Years']\n",
    "treeID = 'SmartOrg Standard Demo with 40 Years'\n",
    "res = so.setTemplateRestrictions(treeID,chosenTemplates)\n",
    "res"
   ]
  },
  {
   "cell_type": "markdown",
   "id": "0d8be463-fc25-47cc-b11e-8319e4361f50",
   "metadata": {},
   "source": [
    "<h2>fetchAllExportedPortfolioPaths() method</h2>\n",
    "- Fetch all exported portfolios paths\n",
    "\n",
    "- <b>NOTE:  this is not currently enabled on Apple PNAV servers</b>\n",
    "\n",
    "\n",
    "<b>Args:</b>\n",
    "- <b>none</b> \n",
    "  - _id of top-most (root) node of portfolio\n",
    " \n",
    "<b>Description:</b>\n",
    "- Fetch list of all exported portfolios paths located at /opt/rangal/1.0.0/tmp/export on server\n",
    "\n",
    "<b>API:</b>\n",
    "  - <b>GET:</b> domain/admin/portfolio/exported\n",
    "\n",
    "<b>Returns:</b>\n",
    "- dict with 3 keys: ['status', 'message','encodedExportedPortfolioList'],  NOTE:  strings in list are url and 64-bit encoded"
   ]
  },
  {
   "cell_type": "code",
   "execution_count": null,
   "id": "64720ac1-2964-4c3a-9066-a2ef103dc5d7",
   "metadata": {
    "scrolled": true
   },
   "outputs": [],
   "source": [
    "res = so.fetchAllExportedPortfolioPaths()\n",
    "res"
   ]
  },
  {
   "cell_type": "markdown",
   "id": "98795294-f584-4c3b-8397-bd20d52e2c9e",
   "metadata": {},
   "source": [
    "#### Decoded portfolio paths <a class=\"jp-toc-ignore\"></a>"
   ]
  },
  {
   "cell_type": "code",
   "execution_count": null,
   "id": "a9a1af74-68f9-4ef4-b466-ad9022d613d3",
   "metadata": {
    "scrolled": true
   },
   "outputs": [],
   "source": [
    "for i,p in enumerate(res['encodedExportedPortfolioList']):\n",
    "    decoded_str = base64.b64decode(urllib.parse.unquote(p)).decode('utf-8')\n",
    "    print(i,decoded_str)"
   ]
  },
  {
   "cell_type": "markdown",
   "id": "3bab490e-3ee8-44c6-9a82-a39a2982e0c8",
   "metadata": {},
   "source": [
    "<h2>exportPortfolio() method</h2>\n",
    "- Export portfolio\n",
    "\n",
    "- <b>NOTE:  this is not currently enabled on Apple PNAV servers</b>\n",
    "\n",
    "<b>Args:</b>\n",
    "- <b>nodeID</b> (str): \n",
    "  - _id of top-most (root) node of portfolio\n",
    " \n",
    "<b>Description:</b>\n",
    "- Exports portfolio with root node of nodeID to /opt/rangal/1.0.0/tmp/export on server\n",
    "\n",
    "<b>API:</b>\n",
    "  - <b>POST:</b> domain/admin/portfolio/export"
   ]
  },
  {
   "cell_type": "code",
   "execution_count": null,
   "id": "fb0827ea-2897-4bb1-9ab8-18042512dc2c",
   "metadata": {},
   "outputs": [],
   "source": [
    "port = so.portfolios()['portfolios'][0]\n",
    "print('Portfolio:  ',port['name'], 'nodeID:  ',port['_id'])\n",
    "nodeID = port['_id']\n",
    "\n",
    "res = so.exportPortfolio(nodeID)\n",
    "res"
   ]
  },
  {
   "cell_type": "markdown",
   "id": "be810575-e629-4b47-9f2e-41d0ad38b2fe",
   "metadata": {},
   "source": [
    "<h2>importPortfolio() method</h2>\n",
    "- Import portfolio from exported portfolios\n",
    "\n",
    "- <b>NOTE:  this is not currently enabled on Apple PNAV servers</b>\n",
    "\n",
    "<b>Args:</b>\n",
    "- <b>includeData (bool):</b> \n",
    "    - boolean to indicate whether to include data in portfolio import\n",
    "- <b>pathToImportedFiles64 (str):</b>\n",
    "    - 64-bit encoded path to portolio files to be imported\n",
    "- <b>newTree64 (str):</b>\n",
    "    - encoded name of new portofolio to which to import to\n",
    "\n",
    "<b>API:</b>\n",
    "  - <b>POST:</b> domain/admin/portfolio/import"
   ]
  },
  {
   "cell_type": "code",
   "execution_count": null,
   "id": "328a226b-6751-4bdd-acc0-24b3453aec27",
   "metadata": {},
   "outputs": [],
   "source": [
    "newTree = \"Dave's Import Test rev b\"\n",
    "newTree64= base64.b64encode(newTree.encode('utf-8')).decode('utf-8')\n",
    "newTree64"
   ]
  },
  {
   "cell_type": "code",
   "execution_count": null,
   "id": "44ff8ed2-49ea-4d18-a1d8-8b2871045322",
   "metadata": {},
   "outputs": [],
   "source": [
    "s = '/opt/rangal/1.0.0/tmp/export/New Product Introduction/20230928.105200'\n",
    "pathToImportedFiles64 = base64.b64encode(s.encode('utf-8')).decode('utf-8')\n",
    "pathToImportedFiles64"
   ]
  },
  {
   "cell_type": "code",
   "execution_count": null,
   "id": "285a5315-db16-4f1c-8e6e-9e855d1c7c0b",
   "metadata": {},
   "outputs": [],
   "source": [
    "res = so.importPortfolio(True,pathToImportedFiles64,newTree64)\n",
    "res"
   ]
  },
  {
   "cell_type": "markdown",
   "id": "4ebff21e-7511-4efe-95d0-27cb670d983a",
   "metadata": {},
   "source": [
    "<h1>Nodes</h1>"
   ]
  },
  {
   "cell_type": "markdown",
   "id": "c31975c8-1ee9-4fe4-b860-af312aa8dc00",
   "metadata": {},
   "source": [
    "<h2>createNode() method</h2>\n",
    "- Create a new node\n",
    "\n",
    "<b>Args:</b>\n",
    "- <b>parentNodeID</b> (str): \n",
    "  - String with parent node _id\n",
    "- <b>newNodeName</b> (str): \n",
    "  - String name of new node in tree\n",
    "- <b>templateName</b> (str): \n",
    "  - String with name of template to use for this new node\n",
    "- <b>parentTags</b> (List[str], optional): \n",
    "  - Default value = None\n",
    "- <b>newNodeTags</b> (List[str], optional): \n",
    "  - Default value = ['all']\n",
    "  - Add additional category tags to the list in the form of '<categoryName>:<categoryEntry>'\n",
    "- <b>newNodeDropdownTags</b> (List[str], optional): \n",
    "  - Default value = None\n",
    "\n",
    "\n",
    "<b>API:</b>\n",
    "  - <b>POST:</b> domain/node/doc\n",
    "\n",
    "<b>Returns:</b>\n",
    "\n",
    "```sh \n",
    "{'status':0, 'message': 'Created a new node', 'nodeID':'66722017bdj3923'}\n",
    "```"
   ]
  },
  {
   "cell_type": "code",
   "execution_count": null,
   "id": "7721c2ef-0831-42ca-b5ae-f9fcca2eecd0",
   "metadata": {},
   "outputs": [],
   "source": [
    "parentNodeID = '662b003555f1646870a4ea13'\n",
    "newNodeName = 'My New Project'\n",
    "templateName = 'Demo2021MakeSellMatureAssessment40Year'"
   ]
  },
  {
   "cell_type": "code",
   "execution_count": null,
   "id": "3f724a74-b6de-4296-8cc2-4d678acd3796",
   "metadata": {},
   "outputs": [],
   "source": [
    "res = so.createNode(parentNodeID, newNodeName, templateName)\n",
    "res"
   ]
  },
  {
   "cell_type": "markdown",
   "id": "e76cb267-0a41-4972-88cc-3665258d5fa8",
   "metadata": {},
   "source": [
    "<h2>deleteNode() method</h2>\n",
    "- Delete a new node\n",
    "\n",
    "Note that deleting a node moves it to the recycle bin. \n",
    "To permanently delete a node, it must be deleting from \n",
    "the recycle bin using the permanentDeleteRecord API call\n",
    "    \n",
    "<b>Args:</b>\n",
    "- <b>nodeID</b> (str): \n",
    "  - String with node _id\n",
    "\n",
    "\n",
    "<b>API:</b>\n",
    "  - <b>DELETE:</b> domain/node/doc\n",
    "\n",
    "<b>Returns:</b>\n",
    "\n",
    "```sh \n",
    "{'status':0, 'message': 'Created a new node', 'nodeID':'66722017bdj3923'}\n",
    "```"
   ]
  },
  {
   "cell_type": "code",
   "execution_count": null,
   "id": "f3a6ecb2-498e-443e-8b46-50afe6536355",
   "metadata": {},
   "outputs": [],
   "source": [
    "nodeID = '66b67f8f419050f2f274db5e'\n",
    "res = so.deleteNode(nodeID)\n",
    "res"
   ]
  },
  {
   "cell_type": "markdown",
   "id": "15358d6b-52c4-4f2f-bea3-2f5efd593fec",
   "metadata": {},
   "source": [
    "<h2>nodeBy() method</h2>\n",
    "- Get document from astro_nodes collection for document nodeID\n",
    "\n",
    "    \n",
    "<b>Args:</b>\n",
    "- <b>nodeID</b> (str): \n",
    "  - String with node _id\n",
    "\n",
    "\n",
    "<b>API:</b>\n",
    "  - <b>GET:</b> domain/node/doc\n",
    "\n",
    "<b>Returns:</b>\n",
    "- dictionary containg nodeID document from astro_nodes collection"
   ]
  },
  {
   "cell_type": "code",
   "execution_count": null,
   "id": "40b91bc4-0937-4129-b840-182100e34264",
   "metadata": {},
   "outputs": [],
   "source": [
    "nodeID = '662b004e130ccbf4748c7c24'\n",
    "res = so.nodeBy(nodeID)\n",
    "res"
   ]
  },
  {
   "cell_type": "markdown",
   "id": "7f3045a0-59a5-4a2b-9e55-71a00b63c431",
   "metadata": {},
   "source": [
    "<h2>fetchInputData() method</h2>\n",
    "- Fetch input data for a node\n",
    "\n",
    "    \n",
    "<b>Args:</b>\n",
    "- <b>treeID</b> (str): \n",
    "  - String with treeID (name of portfolio)\n",
    "- <b>nodeID</b> (str): \n",
    "  - String with nodeID\n",
    "\n",
    "\n",
    "<b>API:</b>\n",
    "  - <b>POST:</b> domain/node/download/input\n",
    "\n",
    "<b>Returns:</b>\n"
   ]
  },
  {
   "cell_type": "code",
   "execution_count": null,
   "id": "14196cde-4a11-41bd-b346-6a5ee22a5dd5",
   "metadata": {},
   "outputs": [],
   "source": [
    "treeID = 'SmartOrg Standard Demo with 40 Years'\n",
    "nodeID = '662b004e130ccbf4748c7c24'\n",
    "res = so.fetchInputData(treeID, nodeID)\n",
    "res"
   ]
  },
  {
   "cell_type": "markdown",
   "id": "4b51d50e-879b-4601-aa16-2d7bf9f8ddc7",
   "metadata": {},
   "source": [
    "<h2>nodeByPost() method</h2>\n",
    "- Get node by Post\n",
    "\n",
    "    \n",
    "<b>Args:</b>\n",
    "- <b>nodeID</b> (str): \n",
    "  - String with nodeID\n",
    "\n",
    "\n",
    "<b>API:</b>\n",
    "  - <b>POST:</b> domain/nodeByPost\n",
    "\n",
    "<b>Returns:</b>\n",
    "    - dictionary containing docuemtg from astro_nodes for nodeID\n"
   ]
  },
  {
   "cell_type": "code",
   "execution_count": null,
   "id": "c85a8e79-c4da-4d4e-a46c-a2fdbe59f3ce",
   "metadata": {},
   "outputs": [],
   "source": [
    "nodeID = '662b004e130ccbf4748c7c24'\n",
    "res = so.nodeByPost(nodeID)\n",
    "res"
   ]
  },
  {
   "cell_type": "markdown",
   "id": "7190eba6-c5c8-4836-833d-428d82b787f8",
   "metadata": {},
   "source": [
    "<h2>getSimpleOutputs) method</h2>\n",
    "- Get simple outputs for a node\n",
    "\n",
    "    \n",
    "<b>Args:</b>\n",
    "- <b>nodeID</b> (str): \n",
    "  - String with nodeID\n",
    "\n",
    "\n",
    "<b>API:</b>\n",
    "  - <b>GET:</b> domain/output\n",
    "\n",
    "<b>Returns:</b>\n",
    "    - dictionary with simple outputs from astro_data for nodeID\n"
   ]
  },
  {
   "cell_type": "code",
   "execution_count": null,
   "id": "0580a62b-1cdb-46e7-b73b-ad9300c62469",
   "metadata": {},
   "outputs": [],
   "source": [
    "nodeID = '662b004e130ccbf4748c7c24'\n",
    "res = so.getSimpleOutputs(nodeID)\n",
    "res"
   ]
  },
  {
   "cell_type": "markdown",
   "id": "3ea7bcb3-7f06-4739-b466-333d520dece3",
   "metadata": {},
   "source": [
    "<h2>changeLog() method</h2>\n",
    "- Get change log for a node\n",
    "\n",
    "    \n",
    "<b>Args:</b>\n",
    "- <b>nodeID</b> (str): \n",
    "  - String with nodeID\n",
    "\n",
    "\n",
    "<b>API:</b>\n",
    "  - <b>GET:</b> domain/portfolio/changes\n",
    "\n",
    "<b>Returns:</b>\n",
    "    - List of dicts containing the node change log information"
   ]
  },
  {
   "cell_type": "code",
   "execution_count": null,
   "id": "394f7d3f-eab5-4e10-9b0f-198cf3bfd97f",
   "metadata": {
    "scrolled": true
   },
   "outputs": [],
   "source": [
    "nodeID = '662b004e130ccbf4748c7c24'\n",
    "res = so.changeLog(nodeID)\n",
    "res"
   ]
  },
  {
   "cell_type": "markdown",
   "id": "d99f3e9a-9b74-4dda-a889-7240eff7a0f7",
   "metadata": {},
   "source": [
    "<h2>getAllTemplates() method</h2> \n",
    "- Get all available templates for a node\n",
    "\n",
    "<b>Args:</b>\n",
    "- <b>node_id</b> (str): \n",
    "  - String with nodeID\n",
    "\n",
    "<b>API:</b>\n",
    "  - <b>GET:</b> domain/admin/templates/all"
   ]
  },
  {
   "cell_type": "code",
   "execution_count": null,
   "id": "7857ddb1-78ea-4cb8-977f-18afff2f045a",
   "metadata": {
    "scrolled": true
   },
   "outputs": [],
   "source": [
    "nodeID = '662b004e130ccbf4748c7c24'\n",
    "res = so.getAllTemplates(nodeID)\n",
    "print(json.dumps(res,indent=2))"
   ]
  },
  {
   "cell_type": "markdown",
   "id": "eb3c6603-ea37-4274-b17f-0b9c82050d7e",
   "metadata": {},
   "source": [
    "<h2>templatesFor() method</h2> \n",
    "- Get templates for a node\n",
    "    \n",
    "<b>Args:</b>\n",
    "- <b>node_id</b> (str): \n",
    "  - String with nodeID\n",
    "\n",
    "<b>API:</b>\n",
    "  - <b>GET:</b> domain/templates/list\n",
    "\n",
    "<b>Returns:</b>\n",
    "- dictionary 'templates' key and list of dicts containing templates that are in the list of Chosen Templates for this node"
   ]
  },
  {
   "cell_type": "code",
   "execution_count": null,
   "id": "dbdfb8f4-be4d-45c2-9be3-340c1b615eb8",
   "metadata": {},
   "outputs": [],
   "source": [
    "nodeID = '662b004e130ccbf4748c7c24'\n",
    "res = so.templatesFor(nodeID)\n",
    "res"
   ]
  },
  {
   "cell_type": "markdown",
   "id": "7deac601-6f94-433c-95bd-e2b55a545009",
   "metadata": {},
   "source": [
    "<h2>getOrphanNodesCount() method</h2>\n",
    "-Get orphanned node count for a portfolio\n",
    "\n",
    "<b>Args:</b>\n",
    "- <b>treeID</b> (str): \n",
    "  - String representing name of portfolio\n",
    "\n",
    "<b>API:</b>\n",
    "  - <b>GET:</b> domain/portfolio/orphan\n",
    "\n",
    "<b>Returns:</b>\n",
    "\n",
    "- number of orphanned noes in the selected portfolio"
   ]
  },
  {
   "cell_type": "code",
   "execution_count": null,
   "id": "9a19748c-3b20-4c54-bea2-bb49601a61e9",
   "metadata": {},
   "outputs": [],
   "source": [
    "treeID = 'SmartOrg Standard Demo with 40 Years'\n",
    "res = so.getOrphanNodesCount(treeID)\n",
    "print(json.dumps(res,indent=2))"
   ]
  },
  {
   "cell_type": "markdown",
   "id": "99d916d8-d323-40d0-a35c-39fbfa0d702a",
   "metadata": {},
   "source": [
    "<h1>Action Menu</h1>"
   ]
  },
  {
   "cell_type": "markdown",
   "id": "e078a27a-1c33-4ab2-9786-8f26c9334043",
   "metadata": {},
   "source": [
    "<h2>actionMenuFor() method</h2>\n",
    "- Get action menu for node\n",
    "    \n",
    "<b>Args:</b>\n",
    "- <b>nodeID</b> (str): \n",
    "  - string representing node _id for a node\n",
    "\n",
    "<b>API:</b>\n",
    "  - <b>GET:</b> Get action menu for node\n",
    "\n",
    "<b>Returns</b>:\n",
    "    - <b>dictionary</b> with two main keys:  'tagData' and 'categoryConfig'\n",
    "    - <b>'tagData'</b>  contains a list of dicts showing the category assignments for each node in the portfolio\n",
    "    - <b>'categoryConfig'</b> retunrns a list of dicts showing all the categories, category settings and category entries"
   ]
  },
  {
   "cell_type": "code",
   "execution_count": null,
   "id": "c55cb8d7-7d7b-4876-8f64-481d1db973e3",
   "metadata": {
    "scrolled": true
   },
   "outputs": [],
   "source": [
    "nodeID = '662b004e130ccbf4748c7c24'\n",
    "res = so.actionMenuFor(nodeID)\n",
    "res"
   ]
  },
  {
   "cell_type": "code",
   "execution_count": null,
   "id": "fee90a3f-5a12-47fb-8f4b-a1e09dd96ba4",
   "metadata": {},
   "outputs": [],
   "source": [
    "for a in res['menuItems']['Actions']:\n",
    "    if 'dropdown' in a:\n",
    "        print(a['name'])\n",
    "        for b in a['dropdown']:\n",
    "            print(f'\\t {b['name']}, {b['Command']}')"
   ]
  },
  {
   "cell_type": "markdown",
   "id": "62af4a35-1875-4909-83d1-2797141a7754",
   "metadata": {},
   "source": [
    "<h2>actionFor() method</h2>\n",
    "- Get display name list for a node and its template\n",
    "    \n",
    "<b>Args:</b>\n",
    "- <b>actionID</b> (str):\n",
    "    - string with name of action in action menu \n",
    "- <b>nodeID</b> (str): \n",
    "  - string representing node _id for a node\n",
    "- <b>packedReportOptions</b> (str, optional): \n",
    "  - string with 64-bit encoded report options dict\n",
    "  - Default value:  \"e30=\",  decoded value:  {}\n",
    "- <b>packedExcludeFilterOptions</b> (str, optional): \n",
    "  - string with 64-bit encoded report options dict\n",
    "  - Default value:  \"W10=\",  decoded value:  []\n",
    "\n",
    "<b>API:</b>\n",
    "  - <b>POST:</b> template/actionMenu\n",
    "    \n",
    "<b>Returns</b>:\n",
    "    - dictionary containing the following keys:  \n",
    "    - ['data'] -> with following sub-keys:\n",
    "    - ['inputScreenConfig', 'selectedInputKey', 'settings'] where ['inputScreenConfig'] has the following sub-keys:\n",
    "    - ['main', 'sibling', 'user', 'nodeAttribute'] where ['main'] sub-keys depend on command in action menu"
   ]
  },
  {
   "cell_type": "markdown",
   "id": "f6cbe119-048d-4fd5-9fa3-e4010bc56c24",
   "metadata": {},
   "source": [
    "<h3>Example using input table</h3>"
   ]
  },
  {
   "cell_type": "code",
   "execution_count": null,
   "id": "a3cf59fe-01a9-4041-9b21-3f04cbd0688b",
   "metadata": {
    "scrolled": true
   },
   "outputs": [],
   "source": [
    "nodeID = '662b004e130ccbf4748c7c24'\n",
    "actionID = 'INPUTTABLE:DevelopmentCostsandTiming'\n",
    "res = so.actionFor(actionID, nodeID)\n",
    "res"
   ]
  },
  {
   "cell_type": "markdown",
   "id": "e493a59d-403b-4cef-8cec-f43850984784",
   "metadata": {},
   "source": [
    "<h3>Example using input screen</h3>"
   ]
  },
  {
   "cell_type": "code",
   "execution_count": null,
   "id": "723b7b70-269f-4f85-86ee-c3b049cb4040",
   "metadata": {
    "scrolled": true
   },
   "outputs": [],
   "source": [
    "nodeID = '662b004e130ccbf4748c7c24'\n",
    "actionID = 'INPUTS:ProjectLifeCycle'\n",
    "res = so.actionFor(actionID, nodeID)\n",
    "res"
   ]
  },
  {
   "cell_type": "markdown",
   "id": "48442c67-4b95-4a9b-bbd7-b2c24bd1ea7a",
   "metadata": {},
   "source": [
    "<h3>Example using tornado</h3>"
   ]
  },
  {
   "cell_type": "code",
   "execution_count": null,
   "id": "34d0b362-91c8-4e70-9416-ff8b1aa5f682",
   "metadata": {
    "scrolled": true
   },
   "outputs": [],
   "source": [
    "nodeID = '662b004e130ccbf4748c7c24'\n",
    "actionID = 'Tornado'\n",
    "res = so.actionFor(actionID, nodeID)\n",
    "res"
   ]
  },
  {
   "cell_type": "markdown",
   "id": "dfc51086-e52f-44c7-9f27-b7b90a67e29a",
   "metadata": {},
   "source": [
    "<h1>Categories/Tags</h1>"
   ]
  },
  {
   "cell_type": "markdown",
   "id": "e78c899d-cfa6-4a21-87b1-c57b1961fb80",
   "metadata": {},
   "source": [
    "<h2>getAssignCategory() method</h2>\n",
    "- Get categories and category assignments for a portfolio\n",
    "    \n",
    "<b>Args:</b>\n",
    "- <b>treeID</b> (str): \n",
    "  - string representing name of a portfolio\n",
    "\n",
    "<b>API:</b>\n",
    "  - <b>POST:</b> domain/category/assign/display\n",
    "\n",
    "<b>Returns</b>:\n",
    "    - <b>dictionary</b> with two main keys:  'tagData' and 'categoryConfig'\n",
    "    - <b>'tagData'</b>  contains a list of dicts showing the category assignments for each node in the portfolio\n",
    "    - <b>'categoryConfig'</b> retunrns a list of dicts showing all the categories, category settings and category entries"
   ]
  },
  {
   "cell_type": "code",
   "execution_count": null,
   "id": "afadd851-e1f5-4048-ac4c-1933aa0a62ba",
   "metadata": {
    "scrolled": true
   },
   "outputs": [],
   "source": [
    "treeID = 'SmartOrg Standard Demo with 40 Years'\n",
    "res = so.getAssignCategory(treeID)\n",
    "res"
   ]
  },
  {
   "cell_type": "markdown",
   "id": "196172f3-31f0-45fe-ab02-a933f3e7b33e",
   "metadata": {},
   "source": [
    "<h2>arrangeCategoriesConfig() method</h2>\n",
    "- Arrange order of categories\n",
    "    \n",
    "<b>Args:</b>\n",
    "- <b>rootNodeID</b> (str): \n",
    "  - string with astro_node _id of portfolio root node\n",
    "- <b>categoriesConfig</b> (List[dict]):\n",
    "    - list of category dicts in order of arrangement\n",
    "\n",
    "<b>API:</b>\n",
    "  - <b>POST:</b> domain/category/config/arrange\n",
    "\n",
    "<b>Returns:</b>\n",
    "    = True or False"
   ]
  },
  {
   "cell_type": "code",
   "execution_count": null,
   "id": "6bceb701-3ae4-4aa8-a757-a0f4295bacd9",
   "metadata": {
    "scrolled": true
   },
   "outputs": [],
   "source": [
    "categoriesConfig = [\n",
    "    {\n",
    "        \"CategoryName\": \"LineOfBusiness\",\n",
    "        \"AppliesTo\": \"Leaves\",\n",
    "        \"IsMultiSelect\": \"false\",\n",
    "        \"ShowOnCategory\": True,\n",
    "        \"AdminEditing\": True,\n",
    "        \"ContributorEditing\": False,\n",
    "        \"AutoPropagateUp\": \"true\",\n",
    "        \"CategoryEntries\": [\n",
    "            \"ConsumerProducts\",\n",
    "            \"HouseholdAppliances\",\n",
    "            \"SportingGoods\"\n",
    "        ],\n",
    "        \"SortEntries\": None\n",
    "    },\n",
    "    {\n",
    "        \"CategoryName\": \"ProjectHealth\",\n",
    "        \"AppliesTo\": \"Leaves\",\n",
    "        \"IsMultiSelect\": \"false\",\n",
    "        \"ShowOnCategory\": True,\n",
    "        \"AdminEditing\": True,\n",
    "        \"ContributorEditing\": False,\n",
    "        \"AutoPropagateUp\": \"true\",\n",
    "        \"CategoryEntries\": [\n",
    "            \"Green\",\n",
    "            \"Yellow\",\n",
    "            \"Red\"\n",
    "        ],\n",
    "        \"SortEntries\": None\n",
    "    },\n",
    "    {\n",
    "        \"CategoryName\": \"TestOne\",\n",
    "        \"AppliesTo\": \"Leaves\",\n",
    "        \"IsMultiSelect\": \"false\",\n",
    "        \"ShowOnCategory\": True,\n",
    "        \"AdminEditing\": True,\n",
    "        \"ContributorEditing\": False,\n",
    "        \"AutoPropagateUp\": \"true\",\n",
    "        \"CategoryEntries\": [\n",
    "            \"EntryA\",\n",
    "            \"EntryB\"\n",
    "        ],\n",
    "        \"SortEntries\": None\n",
    "    },\n",
    "    {\n",
    "        \"CategoryName\": \"TestTwo\",\n",
    "        \"AppliesTo\": \"Leaves\",\n",
    "        \"IsMultiSelect\": \"false\",\n",
    "        \"ShowOnCategory\": True,\n",
    "        \"AdminEditing\": True,\n",
    "        \"ContributorEditing\": False,\n",
    "        \"AutoPropagateUp\": \"true\",\n",
    "        \"CategoryEntries\": [\n",
    "            \"EntryA\",\n",
    "            \"EntryB\"\n",
    "        ],\n",
    "        \"SortEntries\": None\n",
    "    },\n",
    "    {\n",
    "        \"CategoryName\": \"Country\",\n",
    "        \"AppliesTo\": \"Leaves\",\n",
    "        \"IsMultiSelect\": \"true\",\n",
    "        \"ShowOnCategory\": False,\n",
    "        \"AdminEditing\": False,\n",
    "        \"ContributorEditing\": False,\n",
    "        \"AutoPropagateUp\": \"true\",\n",
    "        \"CategoryEntries\": [\n",
    "            \"France\",\n",
    "            \"Germany\",\n",
    "            \"Netherlands\"\n",
    "        ],\n",
    "        \"SortEntries\": None\n",
    "    }\n",
    "]\n",
    "\n",
    "rootNodeID = '662affe27ada4f0369eee3d3'"
   ]
  },
  {
   "cell_type": "code",
   "execution_count": null,
   "id": "fb353024-d8d7-4b72-acae-5644341d5d40",
   "metadata": {},
   "outputs": [],
   "source": [
    "res = so.arrangeCategoriesConfig(rootNodeID, categoriesConfig)\n",
    "res"
   ]
  },
  {
   "cell_type": "markdown",
   "id": "ef90e901-e35a-43fc-926b-276565301e6b",
   "metadata": {},
   "source": [
    "<h2>deleteCategoryConfig() method</h2>\n",
    "- Delete category\n",
    "    \n",
    "<b>Args:</b>\n",
    "- <b>rootNodeID</b> (str): \n",
    "  - string with astro_node _id of portfolio root node\n",
    "- <b>categoryName</b> (str):\n",
    "    - string with name of category to delete\n",
    "\n",
    "<b>API:</b>\n",
    "  - <b>DELETE:</b> string with name of category to delete\n",
    "\n",
    "<b>Returns:</b>\n",
    "    - True or False"
   ]
  },
  {
   "cell_type": "code",
   "execution_count": null,
   "id": "12f59643-d5d7-4af3-ae1b-a040ba27e9d6",
   "metadata": {},
   "outputs": [],
   "source": [
    "categoryName = 'TestTwo'\n",
    "rootNodeID = '662affe27ada4f0369eee3d3'"
   ]
  },
  {
   "cell_type": "code",
   "execution_count": null,
   "id": "48400b54-e5ea-4a43-8a00-31803ae01898",
   "metadata": {},
   "outputs": [],
   "source": [
    "res = so.deleteCategoryConfig(rootNodeID,categoryName)\n",
    "res"
   ]
  },
  {
   "cell_type": "markdown",
   "id": "51e9545e-9e44-4271-9585-9ea256496fb7",
   "metadata": {},
   "source": [
    "<h2>categoryConfigFor() method</h2>\n",
    "- Get categories for a portfolio\n",
    "    \n",
    "<b>Args:</b>\n",
    "- <b>rootNodeID</b> (str): \n",
    "  - string with astro_node _id of portfolio root node\n",
    "\n",
    "<b>API:</b>\n",
    "  - <b>GET:</b> domain/category/config/list\n",
    "        Returns:\n",
    "\n",
    "<b>Returns:</b>\n",
    "    - returns a list of dicts showing all the categories, category settings and category entries"
   ]
  },
  {
   "cell_type": "code",
   "execution_count": null,
   "id": "2d559900-901a-4350-8d67-b7dfa9070ca2",
   "metadata": {},
   "outputs": [],
   "source": [
    "rootNodeID = '662affe27ada4f0369eee3d3'\n",
    "res = so.categoryConfigFor(rootNodeID)\n",
    "res"
   ]
  },
  {
   "cell_type": "markdown",
   "id": "576b7072-24b3-410e-a720-f23b4311e69b",
   "metadata": {},
   "source": [
    "<h2>saveCategoryConfig() method</h2>\n",
    "- Save a new category or update an existing category configuration\n",
    "    \n",
    "<b>Args:</b>\n",
    "- <b>rootNodeID</b> (str): \n",
    "  - string with astro_node _id of portfolio root node\n",
    "- <b>categoryConfig</b> (dict):\n",
    "    - (see below)\n",
    "- <b>renameEntriesTracker</b> (List[dict]):\n",
    "    - [{'entry': <entry_name>, 'state': False, 'vals': None, 'isDuplicate':False}]\n",
    "- <b>changedCategoryName</b> (dict, optional):\n",
    "    - default value = {}\n",
    "\n",
    "<b>API:</b>\n",
    "  - <b>POST:</b> domain/category/config/save\n",
    "\n",
    "<b>Returns:</b>\n",
    "    - True or False"
   ]
  },
  {
   "cell_type": "code",
   "execution_count": null,
   "id": "de746d3a-6cb3-4bf4-be92-d06cd35a2958",
   "metadata": {},
   "outputs": [],
   "source": [
    "categoryConfig = {\n",
    "    \"CategoryName\": \"TestTwo\",\n",
    "    \"AppliesTo\": \"Leaves\",\n",
    "    \"IsMultiSelect\": \"false\",\n",
    "    \"ShowOnCategory\": True,\n",
    "    \"AdminEditing\": True,\n",
    "    \"ContributorEditing\": False,\n",
    "    \"AutoPropagateUp\": \"true\",\n",
    "    \"CategoryEntries\": [\n",
    "        \"EntryA\",\n",
    "        \"EntryB\"\n",
    "    ],\n",
    "    \"SortEntries\": None\n",
    "}\n",
    "\n",
    "renameEntriesTracker = [\n",
    "    {\n",
    "        \"entry\": \"EntryA\",\n",
    "        \"state\": False,\n",
    "        \"vals\": None,\n",
    "        \"isDuplicate\": False\n",
    "    }\n",
    "]\n",
    "\n",
    "rootNodeID = '662affe27ada4f0369eee3d3'"
   ]
  },
  {
   "cell_type": "code",
   "execution_count": null,
   "id": "bc3f960e-4f24-4ccf-a35e-30c8c648a554",
   "metadata": {},
   "outputs": [],
   "source": [
    "res = so.saveCategoryConfig(rootNodeID,categoryConfig,renameEntriesTracker)\n",
    "res"
   ]
  },
  {
   "cell_type": "markdown",
   "id": "3a45b4b0-ba28-41fb-9f27-34a538bd62b3",
   "metadata": {},
   "source": [
    "<h2>tagsFor() method</h2>\n",
    "- Get tags (categories) for a node\n",
    "    \n",
    "<b>Args:</b>\n",
    "- <b>nodeID</b> (str): \n",
    "  - string representing node _id for a node\n",
    "- <b>filter</b> (str,optional):\n",
    "    - string containing a filters\n",
    "    - default value = ''\n",
    "\n",
    "<b>API:</b>\n",
    "  - <b>GET:</b>  domain/tags\n",
    "\n",
    "<b>Returns:</b>\n",
    "    - list of tags\n"
   ]
  },
  {
   "cell_type": "code",
   "execution_count": null,
   "id": "cebe5fb2-9a03-4049-92df-192b36def18a",
   "metadata": {},
   "outputs": [],
   "source": [
    "nodeID = '662b004e130ccbf4748c7c24'\n",
    "res = so.tagsFor(nodeID)\n",
    "res"
   ]
  },
  {
   "cell_type": "markdown",
   "id": "c5e92eeb-768a-4783-8bb9-0ccb52730419",
   "metadata": {},
   "source": [
    "<h2>dropdownTagsFor() method</h2>\n",
    "- Get dropdown tags for node\n",
    "    \n",
    "<b>Args:</b>\n",
    "- <b>nodeID</b> (str): \n",
    "  - string representing node _id for a node\n",
    "- <b>filter</b> (str,optional):\n",
    "    - NOT IMPLEMENTED in this wrapper - string representing tree-filter selections\n",
    "\n",
    "<b>API:</b>\n",
    "  - <b>GET:</b>  domain/dropdownTags\n",
    "\n",
    "<b>Returns:</b>\n",
    "    - returns list of strings containing dropdown tags for node in format:  'dropdownInputName:url-encoded(64-bit encoded(value))'\n"
   ]
  },
  {
   "cell_type": "code",
   "execution_count": null,
   "id": "bf16ad79-bc7f-4e45-a1b4-ed3cbf0c154e",
   "metadata": {},
   "outputs": [],
   "source": [
    "nodeID = '662b004e130ccbf4748c7c24'\n",
    "res = so.dropdownTagsFor(nodeID)\n",
    "res"
   ]
  },
  {
   "cell_type": "code",
   "execution_count": null,
   "id": "38e3b5a5-e3e0-41bf-8b97-17d0d6a000fe",
   "metadata": {},
   "outputs": [],
   "source": [
    "for t in res:\n",
    "    k,v = t.split(':')\n",
    "    print(k,'\\t'*3,base64.b64decode(urllib.parse.unquote(v)).decode('utf-8'))"
   ]
  },
  {
   "cell_type": "markdown",
   "id": "777f1608-bea6-4e69-ba2c-c3739dca7eda",
   "metadata": {},
   "source": [
    "<h1>Universal Tables</h1>"
   ]
  },
  {
   "cell_type": "markdown",
   "id": "3e2c16dc-456f-4981-8f90-4713f949f3b7",
   "metadata": {},
   "source": [
    "<h2>getDisplayNameList() method</h2>\n",
    "-Get display name list for a node and its template\n",
    "\n",
    "<b>Args:</b>\n",
    "- <b>templateName</b> (str):\n",
    "    - string with name of template\n",
    "- <b>leafOrPlatform</b> (str):\n",
    "    - string with either \"leaf\" or \"platform\"\n",
    "- <b>nodeID</b> (str):\n",
    "    - string with nodeID of node\n",
    "\n",
    "                                   \n",
    "<b>API:</b>\n",
    "  - <b>POST:</b> domain/universal/io/schema/fields\n",
    "\n",
    "<b>Returns:</b>\n",
    "    -  dictionary containing the following keys:  \n",
    "```sh \n",
    "        ['inputs', 'outputs', 'tableInputs', 'tableOutputs', 'categories']\n",
    "        \n",
    "    - Under each sub-key is a list of dicts with a json config for each of the inputs, outputs, etc."
   ]
  },
  {
   "cell_type": "code",
   "execution_count": null,
   "id": "9336de9f-4e41-43af-88ca-91e02b228d81",
   "metadata": {
    "scrolled": true
   },
   "outputs": [],
   "source": [
    "nodeID = '662b004e130ccbf4748c7c24'\n",
    "templateName = 'Demo2021MakeSellMatureAssessment40Year'\n",
    "res = so.getDisplayNameList(templateName,'leaf',nodeID)\n",
    "res"
   ]
  },
  {
   "cell_type": "markdown",
   "id": "97b46b45-143d-408d-88ed-530e284aed44",
   "metadata": {},
   "source": [
    "<h2>getFieldList() method</h2>\n",
    "-Get field list for universal table for a node\n",
    "\n",
    "<b>Args:</b>\n",
    "- <b>nodeID</b> (str):\n",
    "    - string with nodeID of node\n",
    "- <b>schema</b> (dict):\n",
    "    - see example below. \n",
    "- <b>packedReportOptions</b> (str,optional):\n",
    "    - string with 64-bit encoded report options dict\n",
    "    - Default value:  \"e30=\",  decoded value:  {}\n",
    "- <b>packedExcludeFilterOptions</b> (str, optional):\n",
    "    - string with 64-bit encoded report options dict\n",
    "    - Default value:  \"W10=\",  decoded value:  []\n",
    "\n",
    "                                   \n",
    "<b>API:</b>\n",
    "  - <b>POST:</b> domain/universal/io/fields\n",
    "\n",
    "<b>Returns:</b>\n",
    "- dict with all the values requested in the schema for all leaves at or below nodeID"
   ]
  },
  {
   "cell_type": "code",
   "execution_count": null,
   "id": "12742f79-a3bd-4c83-a892-8950d0eeba1d",
   "metadata": {},
   "outputs": [],
   "source": [
    "nodeID = '662b004e130ccbf4748c7c24'\n",
    "schema={            \n",
    "    \"templates\": {\n",
    "        \"Demo2021MakeSellMatureAssessment40Year\": {\n",
    "            \"templateName\": \"Demo2021MakeSellMatureAssessment40Year\",\n",
    "            \"leaf\": {\n",
    "                \"inputKeys\": [\n",
    "                    \"tam\",\n",
    "                    \"rampDuration\"\n",
    "                ],\n",
    "                \"inputTables\": {},\n",
    "                \"outputKeys\":[\n",
    "                    \"npvOperatingProfit\"\n",
    "                ],\n",
    "                \"outputTables\": {},\n",
    "                \"categories\": [\"Country\",\"LineOfBusiness\"]\n",
    "            }\n",
    "        }\n",
    "    }\n",
    "}\n"
   ]
  },
  {
   "cell_type": "code",
   "execution_count": null,
   "id": "65aa4f97-6359-4566-856b-777153652429",
   "metadata": {
    "scrolled": true
   },
   "outputs": [],
   "source": [
    "res = so.getFieldList(nodeID,schema)\n",
    "res\n"
   ]
  },
  {
   "cell_type": "markdown",
   "id": "90a5f192-ecfa-4187-a06d-9daedef908b9",
   "metadata": {},
   "source": [
    "<h2>saveUnivSchemaToRoot() method</h2>\n",
    "-Save universal table schema to root (top-node)\n",
    "\n",
    "<b>Args:</b>\n",
    "- <b>nodeID</b> (str):\n",
    "    - string with nodeID of node\n",
    "- <b>schema</b> (dict):\n",
    "    - description of schema?\n",
    "- <b>oldName</b> (str,optional):\n",
    "    - string with old name of schema to be replaced\n",
    "    - Default value = None\n",
    "    \n",
    "                                   \n",
    "<b>API:</b>\n",
    "  - <b>POST:</b> domain/universal/io/schema/save\n",
    "\n",
    "<b>Returns:</b>\n",
    "    - Example of return if successful:\n",
    "```sh \n",
    "{'status': 0, 'message': \"Universal table 'davetestnew2' is saved\", 'schemaName': 'davetestnew2'}"
   ]
  },
  {
   "cell_type": "markdown",
   "id": "765b4819-c45c-492e-9a31-c67bdd50bb74",
   "metadata": {},
   "source": [
    "<h2>universalSaveInputs() method</h2>\n",
    "-Save universal table schema to root (top-node)\n",
    "\n",
    "<b>Args:</b>\n",
    "- <b>treeID</b> (str):\n",
    "    - string with name of portolio\n",
    "- <b>inputs</b> (List(dict)):\n",
    "    - example list:\n",
    "```sh\n",
    "exampleInputs = [\n",
    "                {\n",
    "                    \"id\": \"61018b4ba2f47065daefeba1_20210827.135659_20230928.105045\",\n",
    "                    \"details\": {\n",
    "                        \"nodeName\": \"Oven\",\n",
    "                        \"inputs\": {\n",
    "                            \"tam\": {\n",
    "                                \"0\": \"90000\",\n",
    "                                \"1\": \"12500\"\n",
    "                            }\n",
    "                        },\n",
    "                        \"categories\": {}\n",
    "                    }\n",
    "                }\n",
    "            ]\n",
    "```\n",
    "\n",
    "- <b>comment</b> (str):\n",
    "    - string containing comment about change/update\n",
    "- <b>menuID</b> (str):\n",
    "    -string in the form of:  \"UniversalIO:\"+schemaName\n",
    "    \n",
    "                                   \n",
    "<b>API:</b>\n",
    "  - <b>POST:</b> domain/universal/io/table/save\n",
    "\n",
    "<b>Returns:</b>\n",
    "    - Example of return if successful:\n",
    "```sh \n",
    "{'status': 0, 'msg': 'Universal table data saved!', 'failureList': []}"
   ]
  },
  {
   "cell_type": "markdown",
   "id": "a8f893f0-7dd4-479f-a7bb-a3f9d88b9c5d",
   "metadata": {},
   "source": [
    "<h1>Goal Analysis</h1>"
   ]
  },
  {
   "cell_type": "markdown",
   "id": "d46c7541-8c00-4357-9280-ab88c62ec7db",
   "metadata": {},
   "source": [
    "<h2>performGoalAnalysis() method</h2>\n",
    "-Perform goal analysis\n",
    "\n",
    "<b>Args:</b>\n",
    "- <b>nodeID: (str)</b>\n",
    "    - string representing node _id for a node\n",
    "- <b>packedRangeInfo: (str)</b>\n",
    "    - string with 64-bit encoded range info dictionary\n",
    "    - Example of unencoded dict:\n",
    "        - { \"analyzeOn\":\"value\",\"lowerBound\":0.05,\"upperBound\":0.08}\n",
    "        - where \"analyzeOn\" is either \"value\" or \"prob\"\n",
    "- <b>packedMenuInfo: (str)</b>\n",
    "    - string with 64-bit encoded menu info dictionary\n",
    "    - Example of unencoded dict (NOTE: found in \"Command\": \"GOAL_ANALYSIS\" in template):\n",
    "    - {\"RollupKeys: [\"grossMarginBaseYearPlus3\",\"grossMarginBaseYearPlus5\",\"grossMarginBaseYearPlus10\",\"grossRevenueBaseYearPlus3\",\"grossRevenueBaseYearPlus5\",\"grossRevenueBaseYearPlus10\"],\n",
    "    - \"Source\":\"GrossMargin_RevenueFullDistribution\",\"MVSType\":\"MVSFromFittedPoints\"}\n",
    "- <b>packedReportOptions: (str,optional)</b>\n",
    "    - 64-bit encoded report options dict\n",
    "    - default value = \"e30=\", decoded value = \"{}\"\n",
    "- <b>packedExcludeFilterTags: (str,optional)</b>\n",
    "    - default value = \"W10=\"\n",
    "- <b>packedExcludeFilterTags: (str,optional)</b>\n",
    "    - 64-bit encoded exclude filter tags\n",
    "    - default value = \"W10=\"\n",
    "- <b>actionID: (str, optional):</b>\n",
    "    - string representing ID of action menu \n",
    "    - default value = None "
   ]
  },
  {
   "cell_type": "code",
   "execution_count": null,
   "id": "3325920b-0e62-4cfa-acfc-3129e0b03c44",
   "metadata": {},
   "outputs": [],
   "source": [
    "nodeID = '610094ce9104c64d28898f6f_20210827.135659_20230928.105045'"
   ]
  },
  {
   "cell_type": "markdown",
   "id": "31d0e300-51a5-453f-935a-60080cfe88ee",
   "metadata": {},
   "source": [
    "<h3>Encoding MenuInfo for performGoalAnalysis()</h3>"
   ]
  },
  {
   "cell_type": "code",
   "execution_count": null,
   "id": "9d07850b-70bd-464a-935c-b353aaa97217",
   "metadata": {},
   "outputs": [],
   "source": [
    "#  MenuInfo comes directly from the template \"Command\":\"GOAL_ANALYSIS\" portfolio structure JSON \n",
    "MenuInfo = {\n",
    "    \"RollupKeys\":\n",
    "        [\"grossMarginBaseYearPlus3\",\n",
    "         \"grossMarginBaseYearPlus5\",\n",
    "         \"grossMarginBaseYearPlus10\",\n",
    "         \"grossRevenueBaseYearPlus3\",\n",
    "         \"grossRevenueBaseYearPlus5\",\n",
    "         \"grossRevenueBaseYearPlus10\"\n",
    "        ],\n",
    "    \"Source\":\"GrossMargin_RevenueFullDistribution\",\n",
    "    \"MVSType\":\"MVSFromFittedPoints\"\n",
    "}\n",
    "\n",
    "packedMenuInfo = base64.b64encode(json.dumps(MenuInfo).encode('utf-8')).decode('utf-8')\n",
    "packedMenuInfo"
   ]
  },
  {
   "cell_type": "markdown",
   "id": "94e21569-0cd8-4a42-ab22-78bc06c9b554",
   "metadata": {},
   "source": [
    "<h3>Encoding RangeInfo for performGoalAnalysis()</h3>"
   ]
  },
  {
   "cell_type": "code",
   "execution_count": null,
   "id": "9f1fb289-bd26-4b7b-a1a5-2e649ec8efee",
   "metadata": {},
   "outputs": [],
   "source": [
    "RangeInfo = {\n",
    "    \"analyzeOn\":\"prob\",\n",
    "    \"lowerBound\":0.85,\n",
    "    \"upperBound\":0.95\n",
    "}\n",
    "\n",
    "packedRangeInfo = base64.b64encode(json.dumps(RangeInfo).encode('utf-8')).decode('utf-8')\n",
    "packedRangeInfo"
   ]
  },
  {
   "cell_type": "code",
   "execution_count": null,
   "id": "608a54c2-1a77-4c06-b846-46d102c9086d",
   "metadata": {},
   "outputs": [],
   "source": [
    "nodeID = '662b003555f1646870a4ea13'\n",
    "res = so.performGoalAnalysis(nodeID, packedRangeInfo,packedMenuInfo)"
   ]
  },
  {
   "cell_type": "code",
   "execution_count": null,
   "id": "a0ec45c1-dd46-4285-ba39-e74c747ec22f",
   "metadata": {},
   "outputs": [],
   "source": [
    "res.keys()"
   ]
  },
  {
   "cell_type": "code",
   "execution_count": null,
   "id": "4ddb8e34-3bdb-46c2-aa77-3306b8669c23",
   "metadata": {},
   "outputs": [],
   "source": [
    "res['data'].keys()"
   ]
  },
  {
   "cell_type": "code",
   "execution_count": null,
   "id": "8e78f72b-99f3-4b14-af47-00cfe987d22d",
   "metadata": {},
   "outputs": [],
   "source": [
    "res['data']['data'].keys()"
   ]
  },
  {
   "cell_type": "code",
   "execution_count": null,
   "id": "8aa96e68-4380-4064-958f-4593b52cee3f",
   "metadata": {},
   "outputs": [],
   "source": [
    "res['data']['data']['RollupKeys']"
   ]
  },
  {
   "cell_type": "code",
   "execution_count": null,
   "id": "351c2d7b-f63c-4213-b56e-06b90d7dcb22",
   "metadata": {},
   "outputs": [],
   "source": [
    "res['data']['data']['Source']"
   ]
  },
  {
   "cell_type": "code",
   "execution_count": null,
   "id": "c5dc4cb1-8c21-4b50-9729-d6c3743a8000",
   "metadata": {},
   "outputs": [],
   "source": [
    "res['data']['data']['MVSType']"
   ]
  },
  {
   "cell_type": "code",
   "execution_count": null,
   "id": "7f4c261f-c067-47d3-b384-d5d9287b231e",
   "metadata": {},
   "outputs": [],
   "source": [
    "res['data']['data']['rangeInfo']"
   ]
  },
  {
   "cell_type": "code",
   "execution_count": null,
   "id": "0ea4616f-71f6-4396-b04c-7dbdc1504ac0",
   "metadata": {},
   "outputs": [],
   "source": [
    "for i,d in enumerate(res['data']['data']['DataForEachKey']):\n",
    "    print(i,d['Key'],d['Title'],d.keys())"
   ]
  },
  {
   "cell_type": "code",
   "execution_count": null,
   "id": "dbf2bede-b7ae-4eb0-9a92-b89a4a8082e0",
   "metadata": {},
   "outputs": [],
   "source": [
    "res['data']['data']['DataForEachKey'][2]['analysisData']"
   ]
  },
  {
   "cell_type": "code",
   "execution_count": null,
   "id": "cf3aa7f3-d8ef-4886-bb7e-d5423fcc9145",
   "metadata": {},
   "outputs": [],
   "source": [
    "df_goal = pd.DataFrame(res['data']['data']['DataForEachKey'][1]['analysisData']['mainRows'])\n",
    "df_goal"
   ]
  },
  {
   "cell_type": "markdown",
   "id": "ab74b088-b4d8-412d-8080-d4025f5813e9",
   "metadata": {},
   "source": [
    "<h1>Users</h1>"
   ]
  },
  {
   "cell_type": "markdown",
   "id": "dea5df23-6641-4c94-a3c5-4ae68dae86c4",
   "metadata": {},
   "source": [
    "<h2>getAllUsers() method</h2>\n",
    "-Save broadcast messages\n",
    "\n",
    "<b>Description:</b>\n",
    "- Message documents are saved in the astro_messages collection of the mongoDB database\n",
    "\n",
    "<b>Args:</b>\n",
    "- <b>none</b> \n",
    "\n",
    "<b>API:</b>\n",
    "  - <b>GET:</b> /framework/admin/user/list\n",
    "\n",
    "<b>Returns:</b>\n",
    "- List of dicts containing astro_users documents from database"
   ]
  },
  {
   "cell_type": "code",
   "execution_count": null,
   "id": "a5ecd2ae-175a-4335-880f-f156da877bcd",
   "metadata": {
    "scrolled": true
   },
   "outputs": [],
   "source": [
    "res = so.getAllUsers()\n",
    "res"
   ]
  },
  {
   "cell_type": "markdown",
   "id": "167d7a80-a2fe-42e3-91b9-6693a957cadb",
   "metadata": {},
   "source": [
    "<h2>getListOfUsers() method</h2> \n",
    "- Get list of users\n",
    "\n",
    "<b>API:</b>\n",
    "  - <b>GET:</b> framework/admin/user/list"
   ]
  },
  {
   "cell_type": "code",
   "execution_count": null,
   "id": "60c50fb5-e767-4a50-9697-d38db25cf4a4",
   "metadata": {
    "scrolled": true
   },
   "outputs": [],
   "source": [
    "res=so.getListOfUsers()\n",
    "pd.DataFrame(res)"
   ]
  },
  {
   "cell_type": "markdown",
   "id": "06fc9df3-d26a-4bbe-bafb-3975d9715ff8",
   "metadata": {},
   "source": [
    "<h2>updateUserAdminSettings() method</h2> \n",
    "- Update user admin settings\n",
    "\n",
    "<b>Args:</b>\n",
    "- <b>userID</b>: (str)\n",
    "    - string with userID\n",
    "- <b>adminSettings</b>: (dict)\n",
    "    - dictionary with keys:\n",
    "        - passwordChange: (bool)  #Force user to change password after next login\n",
    "        - resetToFirstLogin: (bool) #Reset user to first login state \n",
    "    \n",
    "\n",
    "<b>API:</b>\n",
    "  - <b>GET:</b> framework/admin/user/list"
   ]
  },
  {
   "cell_type": "code",
   "execution_count": null,
   "id": "b2a8c82b-03aa-4e43-8231-be90ea768fb5",
   "metadata": {},
   "outputs": [],
   "source": [
    "userID = '669fdecbc46a7e8376cec1e8'\n",
    "res=so.updateUserAdminSettings(userID,{'passwordChange':True,'resetToFirstLogin':True})\n",
    "res"
   ]
  },
  {
   "cell_type": "markdown",
   "id": "ef66740d-e10d-4255-8da8-87ace30c3f94",
   "metadata": {},
   "source": [
    "<h1>Groups</h1>"
   ]
  },
  {
   "cell_type": "markdown",
   "id": "0021863b-a429-4eb2-a333-8d3fb4eed1cf",
   "metadata": {},
   "source": [
    "<h2>getListOfGroups() method</h2> \n",
    "- Get list of groups\n",
    "\n",
    "<b>Args:</b>\n",
    "- <b>none</b>\n",
    "\n",
    "<b>API:</b>\n",
    "  - <b>GET:</b> framework/admin/group/list"
   ]
  },
  {
   "cell_type": "code",
   "execution_count": null,
   "id": "4a9365e9-3337-4405-9c3c-b96616305658",
   "metadata": {},
   "outputs": [],
   "source": [
    "res=so.getListOfGroups()\n",
    "pd.DataFrame(res)"
   ]
  },
  {
   "cell_type": "markdown",
   "id": "ceafc44d-786c-42f9-be87-244fdd0384c4",
   "metadata": {},
   "source": [
    "<h2>groupAddUser() method</h2> \n",
    "- Add a user to a group\n",
    "\n",
    "<b>Args:</b>\n",
    "- <b>groupID</b>: (str)\n",
    "    - string with groupID\n",
    "- <b>userID</b>: (str)\n",
    "    - string with userID\n",
    "\n",
    "<b>API:</b>\n",
    "  - <b>POST:</b> framework/admin/user/list"
   ]
  },
  {
   "cell_type": "code",
   "execution_count": null,
   "id": "9d2c67d9-97ac-4f98-bc38-a043effb5d6d",
   "metadata": {},
   "outputs": [],
   "source": [
    "groupID = '669eea3d236226878fc17b58'\n",
    "so.groupAddUser(groupID,userID)"
   ]
  },
  {
   "cell_type": "markdown",
   "id": "d6117b3e-a3de-473c-99de-5c26056b0c12",
   "metadata": {},
   "source": [
    "<h2>groupRemoveUser() method</h2> \n",
    "- Remove a user to a group\n",
    "\n",
    "<b>Args:</b>\n",
    "- <b>groupID</b>: (str)\n",
    "    - string with groupID\n",
    "- <b>userID</b>: (str)\n",
    "    - string with userID\n",
    "\n",
    "<b>API:</b>\n",
    "  - <b>POST:</b> framework/admin/user/list"
   ]
  },
  {
   "cell_type": "code",
   "execution_count": null,
   "id": "1019a046-687d-47d9-a73c-8d29a658a47b",
   "metadata": {},
   "outputs": [],
   "source": [
    "res=so.groupRemoveUser(groupID,userID)\n",
    "res"
   ]
  },
  {
   "cell_type": "markdown",
   "id": "8595b5ef-b6cd-426d-b962-7c425389fe93",
   "metadata": {},
   "source": [
    "<h2>getGroupRestrictions() method</h2> \n",
    "- Get group restrictions for a portfolio\n",
    "\n",
    "<b>Args:</b>\n",
    "- <b>treeID</b>: (str)\n",
    "    - string representing name of portfolio\n",
    "\n",
    "<b>API:</b>\n",
    "  - <b>GET:</b> domain/admin/portfolio/restrict/group\n",
    "\n",
    "<b>Returns:</b>\n",
    "- Dictionary containing two keys:  'restrictedGroups' and 'remainingGroups' which contain list values of group names"
   ]
  },
  {
   "cell_type": "code",
   "execution_count": null,
   "id": "b2e94cc6-147a-4d60-91ae-7fe65806b84b",
   "metadata": {
    "scrolled": true
   },
   "outputs": [],
   "source": [
    "treeID = 'Demo 2021 Make Sell Portfolio'\n",
    "res = so.getGroupRestrictions(treeID)\n",
    "print(json.dumps(res,indent=2))"
   ]
  },
  {
   "cell_type": "markdown",
   "id": "01e24283-2042-424d-88a8-41f37dbbe1dc",
   "metadata": {},
   "source": [
    "<h1>Messaging/Communications</h1>"
   ]
  },
  {
   "cell_type": "markdown",
   "id": "23ba3ee1-ed6e-4765-b9a9-e7c5b6726e5d",
   "metadata": {},
   "source": [
    "<h2>saveMessages() method</h2>\n",
    "-Save broadcast messages\n",
    "\n",
    "<b>Description:</b>\n",
    "- Message documents are saved in the astro_messages collection of the mongoDB database\n",
    "\n",
    "<b>Args:</b>\n",
    "- <b>messages</b> \n",
    "\n",
    "<b>API:</b>\n",
    "  - <b>POST:</b> framework/admin/broadcast/messages/save\n",
    "\n",
    "<b>Returns:</b>\n",
    "- list of dicts with broadcast messages saved to the astro_messages collection including the document _id"
   ]
  },
  {
   "cell_type": "code",
   "execution_count": null,
   "id": "3ac20262-b2f4-474b-9e34-e214c2f6f2b2",
   "metadata": {},
   "outputs": [],
   "source": [
    "messages = [\n",
    "    {\n",
    "        \"_id\": \"\",\n",
    "        \"title\": \"API message saving new\",\n",
    "        \"message\": \"I am trying to save this new message using the API\",\n",
    "        \"everyoneCanSee\": True,\n",
    "        \"alwaysShowMessage\": True,\n",
    "        \"groups\": []\n",
    "    }\n",
    "]"
   ]
  },
  {
   "cell_type": "code",
   "execution_count": null,
   "id": "1f8f827c-d802-4661-b4b0-61c4d539fd36",
   "metadata": {},
   "outputs": [],
   "source": [
    "res = so.saveMessages(messages)"
   ]
  },
  {
   "cell_type": "code",
   "execution_count": null,
   "id": "6239bb9b-bfe4-46e1-a8be-897afe7483bb",
   "metadata": {},
   "outputs": [],
   "source": [
    "res"
   ]
  },
  {
   "cell_type": "markdown",
   "id": "17076e5e-64f3-49e4-a939-b47e82bf1af6",
   "metadata": {},
   "source": [
    "<h2>getMessages() method</h2>\n",
    "-Get list of broadcast messages\n",
    "\n",
    "<b>Args:</b>\n",
    "- <b>none</b> \n",
    "\n",
    "<b>API:</b>\n",
    "  - <b>POST:</b> framework/admin/broadcast/messages/list\n",
    "\n",
    "<b>Returns:</b>\n",
    "- list of dicts with all broadcast messages"
   ]
  },
  {
   "cell_type": "code",
   "execution_count": null,
   "id": "25711a14-4f95-45f6-9d15-098018aa73fc",
   "metadata": {},
   "outputs": [],
   "source": [
    "so.getMessages()"
   ]
  },
  {
   "cell_type": "markdown",
   "id": "b9d8d4f1-ee25-48f5-8614-0532481d8b22",
   "metadata": {},
   "source": [
    "<h2>deleteListOfMessages() method</h2>\n",
    "-Delete list of broadcast messages\n",
    "\n",
    "<b>Args:</b>\n",
    "- <b>idList</b> (list[str])\n",
    "    - list of broadcast message _ids to delete\n",
    "\n",
    "<b>API:</b>\n",
    "  - <b>POST:</b> framework/admin/broadcast/messages/delete\n",
    "\n",
    "<b>Returns:</b>\n",
    "- {'n': 1,\n",
    "  'electionId': '7fffffff0000000000000015',\n",
    "  'opTime': 'Timestamp(1722983857, 1)',\n",
    "  'ok': 1.0,\n",
    "  '$clusterTime': \"{'clusterTime': Timestamp(1722983857, 1), 'signature': {'hash': b'\\\\t\\\\xd3U,\\\\xa2@\\\\xa5\\\\xb77_\\\\xe1\\\\x9a\\\\xa2\\\\xd7\\\\xed\\\\xcf\\\\xab(\\\\x99h', 'keyId': 7351849198788018178}}\",\n",
    "  'operationTime': 'Timestamp(1722983857, 1)'}"
   ]
  },
  {
   "cell_type": "code",
   "execution_count": null,
   "id": "ed15e55b-bdc2-4090-98ec-7b59c0145373",
   "metadata": {},
   "outputs": [],
   "source": [
    "idList = ['66b2a11ffe1bccce3b871c8d','66b2a58b7795d57f77e8b00d']\n",
    "res = so.deleteListOfMessages(idList)\n",
    "res"
   ]
  },
  {
   "cell_type": "markdown",
   "id": "cc803e6a-d45d-48f8-8d9c-1a665cb0b5a4",
   "metadata": {},
   "source": [
    "<h2>getWelcomeMessage() method</h2>\n",
    "- Get welcome message\n",
    "\n",
    "<b>Args:</b>\n",
    "- <b>messageType</b>: (str)\n",
    "     -either \"LICENSE\" or \"SECURITY_WARNING_WB\"\n",
    "\n",
    "\n",
    "<b>API:</b>\n",
    "- <b>GET:</b> framework/admin/welcome/message\n",
    "\n",
    "<b>Returns:</b>\n",
    ">>> {'status': 0,\n",
    ">>>     'data':\n",
    ">>>     {\n",
    ">>>       '_id':string with id of message in astro_message,\n",
    ">>>       'type': 'LICENSE' or 'SECURITY_WARNING_WB',\n",
    ">>>       'config':\n",
    ">>>       {\n",
    ">>>          'state':0,\n",
    ">>>          'message': url-encoded(64-bit encoded text message)\n",
    ">>>       }\n",
    ">>>     }\n",
    ">>> }"
   ]
  },
  {
   "cell_type": "code",
   "execution_count": null,
   "id": "77a20b00-42be-48a0-8626-75ab5f887eb7",
   "metadata": {},
   "outputs": [],
   "source": [
    "so.getWelcomeMessage('LICENSE')"
   ]
  },
  {
   "cell_type": "code",
   "execution_count": null,
   "id": "b4f9607f-35b0-430d-a8eb-360ebd635e6b",
   "metadata": {},
   "outputs": [],
   "source": [
    "urllib.parse.unquote(base64.b64decode('JTNDcCUzRVRoaXMlMjBpcyUyMHRoZSUyMGxpY2Vuc2UlMjBhZ3JlZW1lbnQuJTNDJTJGcCUzRQ=='.encode('utf-8')).decode('utf-8'))"
   ]
  },
  {
   "cell_type": "markdown",
   "id": "6efc4a5a-0e77-4380-ac9c-f0861f36df5a",
   "metadata": {},
   "source": [
    "<h2>setWelcomeMessage() method</h2>\n",
    "- Set welcome message\n",
    "\n",
    "<b>Args:</b>\n",
    "- <b>messageType</b>: (str)\n",
    "     -either \"LICENSE\" or \"SECURITY_WARNING_WB\"\n",
    "- <b>message</b>: (str)\n",
    "     -base64-encoded(url-enccoded(<html message>))\n",
    "- <b>state</b>: (int)\n",
    "    - 0 - Do not show\n",
    "    - 1 - Show if the license is NOT accepted\n",
    "    - 2 - Show on every login\n",
    "\n",
    "\n",
    "<b>API:</b>\n",
    "- <b>GET:</b> framework/admin/welcome/message\n",
    "\n",
    "<b>Returns:</b>\n",
    "> {'status': 0, 'messages': ['Message saved']}"
   ]
  },
  {
   "cell_type": "code",
   "execution_count": null,
   "id": "28673e2e-c30f-4e96-bacb-ae993c6447ef",
   "metadata": {},
   "outputs": [],
   "source": [
    "unencoded_message = '<p>This is the new security message</p>'\n",
    "#URL- and base64-encoding of message\n",
    "message = base64.b64encode(urllib.parse.quote('<p>This is the new security message</p>').encode('utf-8')).decode('utf-8')\n",
    "message"
   ]
  },
  {
   "cell_type": "code",
   "execution_count": null,
   "id": "1a4856e6-aa5f-4eef-ae6b-cdb901d4a06b",
   "metadata": {},
   "outputs": [],
   "source": [
    "res = so.setWelcomeMessage(\"SECURITY_WARNING_WB\",message,1)\n",
    "res"
   ]
  },
  {
   "cell_type": "markdown",
   "id": "3dd4757f-9031-4372-9447-4ce4314243da",
   "metadata": {},
   "source": [
    "<h1>Miscellaneous</h1>"
   ]
  },
  {
   "cell_type": "markdown",
   "id": "df1471c8-c937-4973-90f0-7132bf2270a9",
   "metadata": {},
   "source": [
    "<h2>fetchPypeerLog() method</h2>\n",
    "- Fetch pypeer logs\n",
    "\n",
    "<b>Args:</b>\n",
    "- <b>daysFromToday</b>: (int)\n",
    "     - days from today to retrieve pypeer logs\n",
    "- <b>startTime</b>: (optional)\n",
    "    - default value = None\n",
    "- <b>endTime</b>: (optional)\n",
    "    - default value = None\n",
    "- <b>userName</b>: (str, optional)\n",
    "    - default value = None\n",
    "- <b>logType</b>: (optional)\n",
    "    - default value = None \n",
    "\n",
    "\n",
    "<b>API:</b>\n",
    "- <b>GET:</b> framework/admin/pypeer/log"
   ]
  },
  {
   "cell_type": "code",
   "execution_count": null,
   "id": "c9a8dff0-0c69-4ca3-86ab-7d81cc591f79",
   "metadata": {},
   "outputs": [],
   "source": [
    "res = so.fetchPypeerLog(3,None,None,None)\n",
    "res.keys()"
   ]
  },
  {
   "cell_type": "code",
   "execution_count": null,
   "id": "19394d7f-12b5-416e-af2d-a21f73e20b8b",
   "metadata": {},
   "outputs": [],
   "source": [
    "print('status:',res['status'],', message:',res['message'])"
   ]
  },
  {
   "cell_type": "code",
   "execution_count": null,
   "id": "cb646d72-89ec-477e-b4ba-a13b93a822a2",
   "metadata": {
    "scrolled": true
   },
   "outputs": [],
   "source": [
    "res['logDict']"
   ]
  },
  {
   "cell_type": "code",
   "execution_count": null,
   "id": "b6e73b2e-6dd3-49bc-96fb-453326edce30",
   "metadata": {
    "scrolled": true
   },
   "outputs": [],
   "source": [
    "pyPeerLog = base64.b64decode(urllib.parse.unquote(res['EncodedLog'])).decode('utf-8')\n",
    "\n",
    "json.loads(pyPeerLog)"
   ]
  },
  {
   "cell_type": "markdown",
   "id": "f9282436-fbea-4ca0-945b-c8094cfb1f5e",
   "metadata": {},
   "source": [
    "<h2>getApiVersionNumber() method</h2>\n",
    "- Get API version number\n",
    "\n",
    "<b>Args:</b>\n",
    "- none\n",
    "\n",
    "\n",
    "<b>API:</b>\n",
    "- <b>GET:</b> framework/admin/welcome/message\n",
    "\n",
    "<b>Returns:\n",
    "- {'controllerVersion': '5.15.0', 'calcEngineMessage': {'tooOld': False}, 'monoMessage': {'tooOld': False}}\n",
    "- <b>Note:</b> This API doesn't return a JWT token as it can be called without authenticating"
   ]
  },
  {
   "cell_type": "code",
   "execution_count": null,
   "id": "707ef367-d885-46c0-afb5-a12a91bb0d97",
   "metadata": {},
   "outputs": [],
   "source": [
    "res = so.getApiVersionNumber()\n",
    "res"
   ]
  },
  {
   "cell_type": "markdown",
   "id": "6bb138d4-f1a5-47cd-b334-ae54c290dd4d",
   "metadata": {},
   "source": [
    "<h2>getCalculationEngineInfo() method</h2>\n",
    "- Get calculation engine info\n",
    "\n",
    "<b>Args:</b>\n",
    "- none\n",
    "\n",
    "\n",
    "<b>API:</b>\n",
    "- <b>GET:</b> framework/calcengine/version\n",
    "\n",
    "<b>Returns:\n",
    "- {'versionNumber': '2.3.3', 'logLevel': 'error'}\n",
    "- <b>Note:</b> This API doesn't return a JWT token as it can be called without authenticating"
   ]
  },
  {
   "cell_type": "code",
   "execution_count": null,
   "id": "a70ae116-0b46-4b5d-98cd-a1151eb9f233",
   "metadata": {},
   "outputs": [],
   "source": [
    "res = so.getCalculationEngineInfo()\n",
    "res"
   ]
  },
  {
   "cell_type": "markdown",
   "id": "ee7e554a-10b9-44c9-8f23-b35cb64107b5",
   "metadata": {},
   "source": [
    "<h2>getServerConfig() method</h2>\n",
    "- Get server configuration\n",
    "\n",
    "<b>Args:</b>\n",
    "- none\n",
    "\n",
    "\n",
    "<b>API:</b>\n",
    "- <b>GET:</b> framework/config\n",
    "\n",
    "<b>Returns:\n",
    "- {'defaultAuth': 'PSW',\n",
    " 'apiVersion': {'controllerVersion': '5.15.0',\n",
    "  'calcEngineMessage': {'tooOld': False},\n",
    "  'monoMessage': {'tooOld': False}},\n",
    " 'clientAdminEmail': 'support@smartorg.com',\n",
    " 'zendeskToggle': True,\n",
    " 'downloadModelToggle': True,\n",
    " 'richTextBox': None,\n",
    " 'disableTutorial': False,\n",
    " 'isInav': True,\n",
    " 'calcEngineAccess': False,\n",
    " 'userPortfolioAccess': False,\n",
    " 'wizardUserAccess': False,\n",
    " 'isCorteva': False}\n",
    "- <b>Note:</b> This API doesn't return a JWT token as it can be called without authenticating"
   ]
  },
  {
   "cell_type": "code",
   "execution_count": null,
   "id": "fe438b1b-114f-449c-b6c4-1fa5fed0addb",
   "metadata": {},
   "outputs": [],
   "source": [
    "res = so.getServerConfig()\n",
    "res"
   ]
  },
  {
   "cell_type": "markdown",
   "id": "0b265f2f-d341-40bc-82b0-0dfacf630cf0",
   "metadata": {},
   "source": [
    "<h2>getServerDateTime() method</h2>\n",
    "- Get server date and time\n",
    "\n",
    "<b>Args:</b>\n",
    "- none\n",
    "\n",
    "\n",
    "<b>API:</b>\n",
    "- <b>GET:</b> framework/datetime\n",
    "\n",
    "<b>Returns:\n",
    "- 'Aug 06 2024 21:30:58 (UTC)'\n",
    "- <b>Note:</b> This API doesn't return a JWT token as it can be called without authenticating"
   ]
  },
  {
   "cell_type": "code",
   "execution_count": null,
   "id": "82bbff6f-3e7f-4cb0-b9a8-3be1479944dc",
   "metadata": {},
   "outputs": [],
   "source": [
    "res = so.getServerDateTime()\n",
    "res"
   ]
  },
  {
   "cell_type": "code",
   "execution_count": null,
   "id": "3ccc31f4-edcc-4177-b9bd-162ed81c62ba",
   "metadata": {},
   "outputs": [],
   "source": []
  },
  {
   "cell_type": "code",
   "execution_count": null,
   "id": "5c89fd25-10fc-40c2-a555-d8a7d6b3f4ce",
   "metadata": {},
   "outputs": [],
   "source": []
  },
  {
   "cell_type": "code",
   "execution_count": null,
   "id": "a87fc892-912b-48e9-9ad2-026b8a708f2f",
   "metadata": {},
   "outputs": [],
   "source": []
  }
 ],
 "metadata": {
  "kernelspec": {
   "display_name": "Python 3 (ipykernel)",
   "language": "python",
   "name": "python3"
  },
  "language_info": {
   "codemirror_mode": {
    "name": "ipython",
    "version": 3
   },
   "file_extension": ".py",
   "mimetype": "text/x-python",
   "name": "python",
   "nbconvert_exporter": "python",
   "pygments_lexer": "ipython3",
   "version": "3.12.5"
  }
 },
 "nbformat": 4,
 "nbformat_minor": 5
}
